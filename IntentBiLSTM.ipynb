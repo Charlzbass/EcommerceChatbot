{
  "nbformat": 4,
  "nbformat_minor": 0,
  "metadata": {
    "colab": {
      "name": "Untitled6.ipynb",
      "provenance": [],
      "authorship_tag": "ABX9TyNYP6foUtn5cCyOF6r0bNLf"
    },
    "kernelspec": {
      "name": "python3",
      "display_name": "Python 3"
    },
    "language_info": {
      "name": "python"
    }
  },
  "cells": [
    {
      "cell_type": "code",
      "metadata": {
        "colab": {
          "base_uri": "https://localhost:8080/"
        },
        "id": "0JxgXu6790Ga",
        "outputId": "f51e47db-25b0-4676-b0e6-ff3528bba13f"
      },
      "source": [
        "import pandas as pd\n",
        "print(f\"Pandas: {pd.__version__}\")\n",
        "import numpy as np\n",
        "print(f\"Numpy: {np.__version__}\")\n",
        "\n",
        "# Deep Learning \n",
        "import tensorflow as tf\n",
        "print(f\"Tensorflow: {tf.__version__}\")\n",
        "from tensorflow import keras\n",
        "print(f\"Keras: {keras.__version__}\")\n",
        "import sklearn\n",
        "print(f\"Sklearn: {sklearn.__version__}\")\n",
        "\n",
        "# Visualization \n",
        "import seaborn as sns\n",
        "import matplotlib.pyplot as plt\n",
        "sns.set(style=\"ticks\", color_codes=True)\n",
        "\n",
        "import collections\n",
        "import yaml\n",
        "import re\n",
        "import os\n",
        "\n",
        "# Preprocessing and Keras\n",
        "from nltk.corpus import stopwords\n",
        "from nltk.tokenize import word_tokenize\n",
        "from sklearn.preprocessing import OneHotEncoder\n",
        "from keras.preprocessing.text import Tokenizer\n",
        "from keras.preprocessing.sequence import pad_sequences\n",
        "from keras.utils import to_categorical\n",
        "from keras.models import Sequential, load_model\n",
        "from keras.layers import Dense, LSTM, Bidirectional, Embedding, Dropout\n",
        "from keras.callbacks import ModelCheckpoint\n",
        "from sklearn.model_selection import train_test_split\n",
        "from tensorflow.keras.layers import Input"
      ],
      "execution_count": 1,
      "outputs": [
        {
          "output_type": "stream",
          "text": [
            "Pandas: 1.1.5\n",
            "Numpy: 1.19.5\n",
            "Tensorflow: 2.4.1\n",
            "Keras: 2.4.0\n",
            "Sklearn: 0.22.2.post1\n"
          ],
          "name": "stdout"
        }
      ]
    },
    {
      "cell_type": "code",
      "metadata": {
        "colab": {
          "resources": {
            "http://localhost:8080/nbextensions/google.colab/files.js": {
              "data": "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",
              "ok": true,
              "headers": [
                [
                  "content-type",
                  "application/javascript"
                ]
              ],
              "status": 200,
              "status_text": ""
            }
          },
          "base_uri": "https://localhost:8080/",
          "height": 89
        },
        "id": "C8XjKAvx94bS",
        "outputId": "8cb744ba-9d03-438e-cf2c-f138f6f26915"
      },
      "source": [
        "from google.colab import files\n",
        "uploaded = files.upload()\n",
        "for fn in uploaded.keys():\n",
        "  print('User uploaded file \"\" with length 9000bytes'.format(name = fn, length=len(uploaded[fn])))"
      ],
      "execution_count": 11,
      "outputs": [
        {
          "output_type": "display_data",
          "data": {
            "text/html": [
              "\n",
              "     <input type=\"file\" id=\"files-15dd4c3d-71b9-4e89-bb47-46424a6fa782\" name=\"files[]\" multiple disabled\n",
              "        style=\"border:none\" />\n",
              "     <output id=\"result-15dd4c3d-71b9-4e89-bb47-46424a6fa782\">\n",
              "      Upload widget is only available when the cell has been executed in the\n",
              "      current browser session. Please rerun this cell to enable.\n",
              "      </output>\n",
              "      <script src=\"/nbextensions/google.colab/files.js\"></script> "
            ],
            "text/plain": [
              "<IPython.core.display.HTML object>"
            ]
          },
          "metadata": {
            "tags": []
          }
        },
        {
          "output_type": "stream",
          "text": [
            "Saving glove.6B.50d.txt to glove.6B.50d.txt\n",
            "User uploaded file \"\" with length 9000bytes\n"
          ],
          "name": "stdout"
        }
      ]
    },
    {
      "cell_type": "code",
      "metadata": {
        "colab": {
          "base_uri": "https://localhost:8080/"
        },
        "id": "MsmX3BdU-DSe",
        "outputId": "d8676660-0e9b-473f-ff5c-4f2676cfb06c"
      },
      "source": [
        "import json\n",
        "with open(\"intents.json\") as file:\n",
        "    data = json.load(file)\n",
        "    print(data)"
      ],
      "execution_count": 3,
      "outputs": [
        {
          "output_type": "stream",
          "text": [
            "{'intents': [{'tag': 'greeting', 'patterns': ['Hi', 'How are you', 'Is anyone there', 'Hello', 'Good day', 'what up', 'How are you doing'], 'responses': ['Hello!', 'Good to see you again!', 'Hi there, how can I help?']}, {'tag': 'shop', 'patterns': ['I would like to buy something', 'whats on the shoe catalog', 'what do you recommend', 'could i get some cheap batteries', 'i would like order some titanium ore for solar cells'], 'responses': ['We have that in the catalogue', 'unfortunately, we currently do not have your item']}, {'tag': 'goodbye', 'patterns': ['cya', 'see you later', 'Goodbye', 'I am leaving', 'Have a good day'], 'responses': ['Sad to see you go', 'Goodbye', 'Talk to you later']}, {'tag': 'name', 'patterns': ['what is your name', 'what should I call you', 'what is your name'], 'responses': ['You can call me Ange', \" I'm Ange\", \"I'm Ange aka sweet angel\"]}, {'tag': 'negotiate', 'patterns': ['the price is too high', 'can you reduce the price', 'are there sales vailable', 'is there a bundle deal', 'does 100 sound good', 'are you okay with 120', 'it is been sold at a cheaper price at another store'], 'responses': []}, {'tag': 'alternatives', 'patterns': ['i am looking for lowest cost best quality', 'are there any other alternatives', 'are there any better substitutes', 'how does this compare with others', 'are there any options better'], 'responses': []}]}\n"
          ],
          "name": "stdout"
        }
      ]
    },
    {
      "cell_type": "code",
      "metadata": {
        "id": "fpHmB-ll-c1h"
      },
      "source": [
        "from keras.preprocessing.text import Tokenizer\n",
        "from keras.preprocessing.text import one_hot\n",
        "\n",
        "# Label encoding the target\n",
        "from sklearn.preprocessing import LabelEncoder\n",
        "from sklearn.preprocessing import OneHotEncoder\n",
        "\n",
        "# For the text data\n",
        "from keras.preprocessing.text import hashing_trick\n",
        "from keras.preprocessing.text import text_to_word_sequence"
      ],
      "execution_count": 4,
      "outputs": []
    },
    {
      "cell_type": "code",
      "metadata": {
        "id": "2ykGNnc_-fsj"
      },
      "source": [
        "intents = data['intents']\n",
        "train = []\n",
        "for intent in intents:\n",
        "    for pattern in intent['patterns']:\n",
        "        train.append([intent['tag'], pattern.split(\" \")])"
      ],
      "execution_count": 5,
      "outputs": []
    },
    {
      "cell_type": "code",
      "metadata": {
        "id": "sGODhPn2-ig8"
      },
      "source": [
        "df = pd.DataFrame(train, columns=['tag','pattern'])"
      ],
      "execution_count": 6,
      "outputs": []
    },
    {
      "cell_type": "code",
      "metadata": {
        "id": "_fGAea9R-krl"
      },
      "source": [
        "X_train, X_val, y_train, y_val = train_test_split(df['pattern'], df['tag'], test_size = 0.3, \n",
        "                                                  shuffle = True, stratify = df['tag'], random_state = 7)"
      ],
      "execution_count": 7,
      "outputs": []
    },
    {
      "cell_type": "code",
      "metadata": {
        "id": "8jTjs8BU-nUd"
      },
      "source": [
        "# Encoding the target variable\n",
        "\n",
        "le = LabelEncoder()\n",
        "le.fit(y_train)\n",
        "\n",
        "y_train = le.transform(y_train)\n",
        "y_val = le.transform(y_val)"
      ],
      "execution_count": 8,
      "outputs": []
    },
    {
      "cell_type": "code",
      "metadata": {
        "colab": {
          "base_uri": "https://localhost:8080/"
        },
        "id": "bQ-dT8I2-rDd",
        "outputId": "f0df2cc1-cf5b-46f5-e370-e2925f5c3931"
      },
      "source": [
        "t = Tokenizer()\n",
        "t.fit_on_texts(X_train)\n",
        "\n",
        "print(\"Document Count: \\n{}\\n\".format(t.document_count))\n",
        "\n",
        "def convert_to_padded(tokenizer, docs):\n",
        "    ''' Taking in Keras API Tokenizer and documents and returns their padded version '''\n",
        "    ## Using API's attributes\n",
        "    # Embedding\n",
        "    embedded = t.texts_to_sequences(docs)\n",
        "    # Padding\n",
        "    padded = pad_sequences(embedded, maxlen = 15, padding = 'post')\n",
        "    return padded\n",
        "\n",
        "## Defining useful variables for later\n",
        "# Adding 1 becuase of reserved 0 index\n",
        "vocab_size = len(t.word_counts) + 1\n",
        "print(f'Vocab size:\\n{vocab_size}')\n",
        "\n",
        "\n",
        "padded_X_train = convert_to_padded(tokenizer = t, docs = X_train)\n",
        "padded_X_val = convert_to_padded(tokenizer = t, docs = X_val)\n",
        "\n",
        "print(f'padded_X_train\\n{padded_X_train}')\n",
        "print(f'padded_X_val\\n{padded_X_val}')"
      ],
      "execution_count": 9,
      "outputs": [
        {
          "output_type": "stream",
          "text": [
            "Document Count: \n",
            "22\n",
            "\n",
            "Vocab size:\n",
            "69\n",
            "padded_X_train\n",
            "[[18 19  5 20 21  0  0  0  0  0  0  0  0  0  0]\n",
            " [ 1  6 22 23  0  0  0  0  0  0  0  0  0  0  0]\n",
            " [24  2 25  5  7  0  0  0  0  0  0  0  0  0  0]\n",
            " [26  0  0  0  0  0  0  0  0  0  0  0  0  0  0]\n",
            " [27  8 28 29  9 10 30  7  9 31 32  0  0  0  0]\n",
            " [ 1  2 33 34 35  0  0  0  0  0  0  0  0  0  0]\n",
            " [11 12  0  0  0  0  0  0  0  0  0  0  0  0  0]\n",
            " [ 1  6 13 36 37  0  0  0  0  0  0  0  0  0  0]\n",
            " [38  3 39 14 40 41  0  0  0  0  0  0  0  0  0]\n",
            " [ 4 42  3 43  2  0  0  0  0  0  0  0  0  0  0]\n",
            " [44  0  0  0  0  0  0  0  0  0  0  0  0  0  0]\n",
            " [ 4  8 45 46  0  0  0  0  0  0  0  0  0  0  0]\n",
            " [ 3 15 47  0  0  0  0  0  0  0  0  0  0  0  0]\n",
            " [16  1  2 48  0  0  0  0  0  0  0  0  0  0  0]\n",
            " [ 3 49 50 51 14 52 53 17 54 55  0  0  0  0  0]\n",
            " [ 4 56  2 57  0  0  0  0  0  0  0  0  0  0  0]\n",
            " [58 10 11 12  0  0  0  0  0  0  0  0  0  0  0]\n",
            " [16  1  2  0  0  0  0  0  0  0  0  0  0  0  0]\n",
            " [ 5  7  8 59 60  0  0  0  0  0  0  0  0  0  0]\n",
            " [ 4 61  0  0  0  0  0  0  0  0  0  0  0  0  0]\n",
            " [ 3 15 62 17 63 64 65 66  0  0  0  0  0  0  0]\n",
            " [ 1  6 13 67 68  0  0  0  0  0  0  0  0  0  0]]\n",
            "padded_X_val\n",
            "[[ 2  0  0  0  0  0  0  0  0  0  0  0  0  0  0]\n",
            " [ 8  6 10  0  0  0  0  0  0  0  0  0  0  0  0]\n",
            " [ 4  8 45 46  0  0  0  0  0  0  0  0  0  0  0]\n",
            " [16 34  0  0  0  0  0  0  0  0  0  0  0  0  0]\n",
            " [ 3 49 50  0  0  0  0  0  0  0  0  0  0  0  0]\n",
            " [ 0  0  0  0  0  0  0  0  0  0  0  0  0  0  0]\n",
            " [ 8  6  0  0  0  0  0  0  0  0  0  0  0  0  0]\n",
            " [ 1  6 13 67  0  0  0  0  0  0  0  0  0  0  0]\n",
            " [ 0  0  0  0  0  0  0  0  0  0  0  0  0  0  0]\n",
            " [11  0  0  0  0  0  0  0  0  0  0  0  0  0  0]]\n"
          ],
          "name": "stdout"
        }
      ]
    },
    {
      "cell_type": "code",
      "metadata": {
        "colab": {
          "base_uri": "https://localhost:8080/"
        },
        "id": "MegfyWm6-wcl",
        "outputId": "20360ced-aa97-47ca-c497-5c4fa9820229"
      },
      "source": [
        "# Using gloVe word embeddings\n",
        "embeddings_index = {}\n",
        "f = open('glove.6B.50d.txt')\n",
        "for line in f:\n",
        "    values = line.split()\n",
        "    word = values[0]\n",
        "    coefs = np.asarray(values[1:], dtype='float32')\n",
        "    embeddings_index[word] = coefs\n",
        "f.close()\n",
        "\n",
        "print('Found %s word vectors.' % len(embeddings_index))"
      ],
      "execution_count": 12,
      "outputs": [
        {
          "output_type": "stream",
          "text": [
            "Found 400000 word vectors.\n"
          ],
          "name": "stdout"
        }
      ]
    },
    {
      "cell_type": "code",
      "metadata": {
        "id": "QkoqxLiM-0aN"
      },
      "source": [
        "# Initializing required objects\n",
        "word_index = t.word_index\n",
        "EMBEDDING_DIM = 50 # Because we are using the 50D gloVe embeddings\n",
        "\n",
        "# Getting my embedding matrix\n",
        "embedding_matrix = np.zeros((len(word_index) + 1, EMBEDDING_DIM))\n",
        "for word, i in word_index.items():\n",
        "    embedding_vector = embeddings_index.get(word)\n",
        "    if embedding_vector is not None:\n",
        "        # words not found in embedding index will be all-zeros.\n",
        "        embedding_matrix[i] = embedding_vector"
      ],
      "execution_count": 13,
      "outputs": []
    },
    {
      "cell_type": "code",
      "metadata": {
        "colab": {
          "base_uri": "https://localhost:8080/"
        },
        "id": "L5VXo9qTGGgx",
        "outputId": "9e71e581-cdaa-4bf2-8a19-d13271c030f7"
      },
      "source": [
        "def make_model(vocab_size, max_token_length):\n",
        "    ''' In this function I define all the layers of my neural network'''\n",
        "    # Initialize\n",
        "    model = Sequential()\n",
        "    #model.add(Input(shape = (32,), dtype = 'int32'))\n",
        "\n",
        "    # Adding layers - For embedding layer, I made sure to add my embedding matrix into the weights paramater\n",
        "    model.add(Embedding(vocab_size, embedding_matrix.shape[1], input_length = 32, \n",
        "                        trainable = False, weights = [embedding_matrix]))\n",
        "    \n",
        "    model.add(Bidirectional(LSTM(128)))\n",
        "#    model.add(LSTM(128)) \n",
        "    # Try 100\n",
        "    model.add(Dense(600, activation = \"relu\",kernel_regularizer ='l2')) # Try 50, another dense layer? This takes a little bit of exploration\n",
        "    \n",
        "    # Adding another dense layer to increase model complexity\n",
        "    model.add(Dense(600, activation = \"relu\",kernel_regularizer ='l2'))\n",
        "    \n",
        "    # Only update 50 percent of the nodes - helps with overfitting\n",
        "    model.add(Dropout(0.5))\n",
        "    \n",
        "    # This last layer should be the size of the number of your intents!\n",
        "    # Use sigmoid for multilabel classification, otherwise, use softmax!\n",
        "    model.add(Dense(10, activation = \"softmax\"))\n",
        "    \n",
        "    return model\n",
        "\n",
        "# Actually creating my model with 32 as the max token length\n",
        "model = make_model(vocab_size, 32)\n",
        "model.compile(loss = \"sparse_categorical_crossentropy\", \n",
        "              optimizer = \"adam\", metrics = [\"accuracy\"])\n",
        "model.summary()"
      ],
      "execution_count": 14,
      "outputs": [
        {
          "output_type": "stream",
          "text": [
            "Model: \"sequential\"\n",
            "_________________________________________________________________\n",
            "Layer (type)                 Output Shape              Param #   \n",
            "=================================================================\n",
            "embedding (Embedding)        (None, 32, 50)            3450      \n",
            "_________________________________________________________________\n",
            "bidirectional (Bidirectional (None, 256)               183296    \n",
            "_________________________________________________________________\n",
            "dense (Dense)                (None, 600)               154200    \n",
            "_________________________________________________________________\n",
            "dense_1 (Dense)              (None, 600)               360600    \n",
            "_________________________________________________________________\n",
            "dropout (Dropout)            (None, 600)               0         \n",
            "_________________________________________________________________\n",
            "dense_2 (Dense)              (None, 10)                6010      \n",
            "=================================================================\n",
            "Total params: 707,556\n",
            "Trainable params: 704,106\n",
            "Non-trainable params: 3,450\n",
            "_________________________________________________________________\n"
          ],
          "name": "stdout"
        }
      ]
    },
    {
      "cell_type": "code",
      "metadata": {
        "colab": {
          "base_uri": "https://localhost:8080/"
        },
        "id": "NE-KoXF7GKG5",
        "outputId": "be87ccb1-f29e-40c3-c670-9045571bc3d3"
      },
      "source": [
        "filename = 'models/intent_classification_b.h5'\n",
        "\n",
        "# Learning rate scheduling\n",
        "# This function keeps the initial learning rate for the first ten epochs  \n",
        "# and decreases it exponentially after that.  \n",
        "def scheduler(epoch, lr):\n",
        "    if epoch < 10:\n",
        "        return lr\n",
        "    else:\n",
        "        return lr * tf.math.exp(-0.1)\n",
        "\n",
        "lr_sched_checkpoint = tf.keras.callbacks.LearningRateScheduler(scheduler)\n",
        "\n",
        "# Early stopping\n",
        "early_stopping = tf.keras.callbacks.EarlyStopping(\n",
        "    monitor='val_loss', min_delta=0, patience=3, verbose=0, mode='auto',\n",
        "    baseline=None, restore_best_weights=True\n",
        ")\n",
        "\n",
        "\n",
        "# This saves the best model\n",
        "checkpoint = ModelCheckpoint(filename, monitor='val_loss', verbose=1, \n",
        "                             save_best_only=True, mode='min')\n",
        "\n",
        "# The model you get at the end of it is after 100 epochs, but that might not have been\n",
        "# the weights most associated with validation accuracy\n",
        "\n",
        "# Only save the weights when you model has the lowest val loss. Early stopping\n",
        "\n",
        "# Fitting model with all the callbacks above\n",
        "hist = model.fit(padded_X_train, y_train, epochs = 50, batch_size = 32, \n",
        "                 validation_data = (padded_X_val, y_val), \n",
        "                 callbacks = [checkpoint, lr_sched_checkpoint, early_stopping])"
      ],
      "execution_count": 16,
      "outputs": [
        {
          "output_type": "stream",
          "text": [
            "Epoch 1/50\n",
            "1/1 [==============================] - 0s 147ms/step - loss: 6.5696 - accuracy: 0.5909 - val_loss: 7.0382 - val_accuracy: 0.4000\n",
            "\n",
            "Epoch 00001: val_loss improved from inf to 7.03821, saving model to models/intent_classification_b.h5\n",
            "Epoch 2/50\n",
            "1/1 [==============================] - 0s 96ms/step - loss: 6.4503 - accuracy: 0.7273 - val_loss: 6.9631 - val_accuracy: 0.4000\n",
            "\n",
            "Epoch 00002: val_loss improved from 7.03821 to 6.96313, saving model to models/intent_classification_b.h5\n",
            "Epoch 3/50\n",
            "1/1 [==============================] - 0s 98ms/step - loss: 6.3839 - accuracy: 0.6364 - val_loss: 6.8924 - val_accuracy: 0.4000\n",
            "\n",
            "Epoch 00003: val_loss improved from 6.96313 to 6.89238, saving model to models/intent_classification_b.h5\n",
            "Epoch 4/50\n",
            "1/1 [==============================] - 0s 95ms/step - loss: 6.2973 - accuracy: 0.6364 - val_loss: 6.8202 - val_accuracy: 0.4000\n",
            "\n",
            "Epoch 00004: val_loss improved from 6.89238 to 6.82016, saving model to models/intent_classification_b.h5\n",
            "Epoch 5/50\n",
            "1/1 [==============================] - 0s 93ms/step - loss: 6.2095 - accuracy: 0.5909 - val_loss: 6.7464 - val_accuracy: 0.4000\n",
            "\n",
            "Epoch 00005: val_loss improved from 6.82016 to 6.74638, saving model to models/intent_classification_b.h5\n",
            "Epoch 6/50\n",
            "1/1 [==============================] - 0s 113ms/step - loss: 6.1239 - accuracy: 0.7727 - val_loss: 6.6707 - val_accuracy: 0.4000\n",
            "\n",
            "Epoch 00006: val_loss improved from 6.74638 to 6.67069, saving model to models/intent_classification_b.h5\n",
            "Epoch 7/50\n",
            "1/1 [==============================] - 0s 93ms/step - loss: 5.9704 - accuracy: 0.7273 - val_loss: 6.5948 - val_accuracy: 0.4000\n",
            "\n",
            "Epoch 00007: val_loss improved from 6.67069 to 6.59485, saving model to models/intent_classification_b.h5\n",
            "Epoch 8/50\n",
            "1/1 [==============================] - 0s 95ms/step - loss: 5.9111 - accuracy: 0.7273 - val_loss: 6.5243 - val_accuracy: 0.4000\n",
            "\n",
            "Epoch 00008: val_loss improved from 6.59485 to 6.52433, saving model to models/intent_classification_b.h5\n",
            "Epoch 9/50\n",
            "1/1 [==============================] - 0s 103ms/step - loss: 5.8423 - accuracy: 0.6364 - val_loss: 6.4589 - val_accuracy: 0.4000\n",
            "\n",
            "Epoch 00009: val_loss improved from 6.52433 to 6.45889, saving model to models/intent_classification_b.h5\n",
            "Epoch 10/50\n",
            "1/1 [==============================] - 0s 92ms/step - loss: 5.6942 - accuracy: 0.7727 - val_loss: 6.3959 - val_accuracy: 0.3000\n",
            "\n",
            "Epoch 00010: val_loss improved from 6.45889 to 6.39593, saving model to models/intent_classification_b.h5\n",
            "Epoch 11/50\n",
            "1/1 [==============================] - 0s 90ms/step - loss: 5.5693 - accuracy: 0.7727 - val_loss: 6.3417 - val_accuracy: 0.3000\n",
            "\n",
            "Epoch 00011: val_loss improved from 6.39593 to 6.34171, saving model to models/intent_classification_b.h5\n",
            "Epoch 12/50\n",
            "1/1 [==============================] - 0s 96ms/step - loss: 5.4964 - accuracy: 0.7727 - val_loss: 6.2959 - val_accuracy: 0.3000\n",
            "\n",
            "Epoch 00012: val_loss improved from 6.34171 to 6.29592, saving model to models/intent_classification_b.h5\n",
            "Epoch 13/50\n",
            "1/1 [==============================] - 0s 102ms/step - loss: 5.4093 - accuracy: 0.7727 - val_loss: 6.2566 - val_accuracy: 0.3000\n",
            "\n",
            "Epoch 00013: val_loss improved from 6.29592 to 6.25663, saving model to models/intent_classification_b.h5\n",
            "Epoch 14/50\n",
            "1/1 [==============================] - 0s 98ms/step - loss: 5.3587 - accuracy: 0.8182 - val_loss: 6.2169 - val_accuracy: 0.3000\n",
            "\n",
            "Epoch 00014: val_loss improved from 6.25663 to 6.21690, saving model to models/intent_classification_b.h5\n",
            "Epoch 15/50\n",
            "1/1 [==============================] - 0s 88ms/step - loss: 5.2379 - accuracy: 0.8182 - val_loss: 6.1789 - val_accuracy: 0.3000\n",
            "\n",
            "Epoch 00015: val_loss improved from 6.21690 to 6.17888, saving model to models/intent_classification_b.h5\n",
            "Epoch 16/50\n",
            "1/1 [==============================] - 0s 98ms/step - loss: 5.2393 - accuracy: 0.8182 - val_loss: 6.1460 - val_accuracy: 0.3000\n",
            "\n",
            "Epoch 00016: val_loss improved from 6.17888 to 6.14596, saving model to models/intent_classification_b.h5\n",
            "Epoch 17/50\n",
            "1/1 [==============================] - 0s 87ms/step - loss: 5.1833 - accuracy: 0.8636 - val_loss: 6.1184 - val_accuracy: 0.3000\n",
            "\n",
            "Epoch 00017: val_loss improved from 6.14596 to 6.11836, saving model to models/intent_classification_b.h5\n",
            "Epoch 18/50\n",
            "1/1 [==============================] - 0s 118ms/step - loss: 5.1977 - accuracy: 0.7727 - val_loss: 6.0962 - val_accuracy: 0.3000\n",
            "\n",
            "Epoch 00018: val_loss improved from 6.11836 to 6.09616, saving model to models/intent_classification_b.h5\n",
            "Epoch 19/50\n",
            "1/1 [==============================] - 0s 102ms/step - loss: 5.0861 - accuracy: 0.9545 - val_loss: 6.0754 - val_accuracy: 0.3000\n",
            "\n",
            "Epoch 00019: val_loss improved from 6.09616 to 6.07541, saving model to models/intent_classification_b.h5\n",
            "Epoch 20/50\n",
            "1/1 [==============================] - 0s 89ms/step - loss: 5.1638 - accuracy: 0.7273 - val_loss: 6.0538 - val_accuracy: 0.3000\n",
            "\n",
            "Epoch 00020: val_loss improved from 6.07541 to 6.05381, saving model to models/intent_classification_b.h5\n",
            "Epoch 21/50\n",
            "1/1 [==============================] - 0s 89ms/step - loss: 5.0689 - accuracy: 0.8636 - val_loss: 6.0348 - val_accuracy: 0.3000\n",
            "\n",
            "Epoch 00021: val_loss improved from 6.05381 to 6.03482, saving model to models/intent_classification_b.h5\n",
            "Epoch 22/50\n",
            "1/1 [==============================] - 0s 94ms/step - loss: 5.0163 - accuracy: 0.8636 - val_loss: 6.0180 - val_accuracy: 0.3000\n",
            "\n",
            "Epoch 00022: val_loss improved from 6.03482 to 6.01804, saving model to models/intent_classification_b.h5\n",
            "Epoch 23/50\n",
            "1/1 [==============================] - 0s 86ms/step - loss: 5.0297 - accuracy: 0.8182 - val_loss: 6.0045 - val_accuracy: 0.4000\n",
            "\n",
            "Epoch 00023: val_loss improved from 6.01804 to 6.00452, saving model to models/intent_classification_b.h5\n",
            "Epoch 24/50\n",
            "1/1 [==============================] - 0s 103ms/step - loss: 4.9271 - accuracy: 0.8636 - val_loss: 5.9921 - val_accuracy: 0.4000\n",
            "\n",
            "Epoch 00024: val_loss improved from 6.00452 to 5.99206, saving model to models/intent_classification_b.h5\n",
            "Epoch 25/50\n",
            "1/1 [==============================] - 0s 100ms/step - loss: 4.9327 - accuracy: 0.7727 - val_loss: 5.9804 - val_accuracy: 0.4000\n",
            "\n",
            "Epoch 00025: val_loss improved from 5.99206 to 5.98040, saving model to models/intent_classification_b.h5\n",
            "Epoch 26/50\n",
            "1/1 [==============================] - 0s 104ms/step - loss: 4.9096 - accuracy: 0.8182 - val_loss: 5.9688 - val_accuracy: 0.4000\n",
            "\n",
            "Epoch 00026: val_loss improved from 5.98040 to 5.96882, saving model to models/intent_classification_b.h5\n",
            "Epoch 27/50\n",
            "1/1 [==============================] - 0s 99ms/step - loss: 4.9248 - accuracy: 0.9545 - val_loss: 5.9578 - val_accuracy: 0.4000\n",
            "\n",
            "Epoch 00027: val_loss improved from 5.96882 to 5.95785, saving model to models/intent_classification_b.h5\n",
            "Epoch 28/50\n",
            "1/1 [==============================] - 0s 97ms/step - loss: 4.8411 - accuracy: 0.9091 - val_loss: 5.9482 - val_accuracy: 0.4000\n",
            "\n",
            "Epoch 00028: val_loss improved from 5.95785 to 5.94818, saving model to models/intent_classification_b.h5\n",
            "Epoch 29/50\n",
            "1/1 [==============================] - 0s 92ms/step - loss: 4.8445 - accuracy: 0.8636 - val_loss: 5.9387 - val_accuracy: 0.4000\n",
            "\n",
            "Epoch 00029: val_loss improved from 5.94818 to 5.93867, saving model to models/intent_classification_b.h5\n",
            "Epoch 30/50\n",
            "1/1 [==============================] - 0s 98ms/step - loss: 4.8854 - accuracy: 0.8636 - val_loss: 5.9300 - val_accuracy: 0.4000\n",
            "\n",
            "Epoch 00030: val_loss improved from 5.93867 to 5.93000, saving model to models/intent_classification_b.h5\n",
            "Epoch 31/50\n",
            "1/1 [==============================] - 0s 127ms/step - loss: 4.8244 - accuracy: 0.9091 - val_loss: 5.9215 - val_accuracy: 0.4000\n",
            "\n",
            "Epoch 00031: val_loss improved from 5.93000 to 5.92150, saving model to models/intent_classification_b.h5\n",
            "Epoch 32/50\n",
            "1/1 [==============================] - 0s 91ms/step - loss: 4.8628 - accuracy: 0.8182 - val_loss: 5.9140 - val_accuracy: 0.4000\n",
            "\n",
            "Epoch 00032: val_loss improved from 5.92150 to 5.91397, saving model to models/intent_classification_b.h5\n",
            "Epoch 33/50\n",
            "1/1 [==============================] - 0s 93ms/step - loss: 4.8418 - accuracy: 0.9091 - val_loss: 5.9073 - val_accuracy: 0.4000\n",
            "\n",
            "Epoch 00033: val_loss improved from 5.91397 to 5.90728, saving model to models/intent_classification_b.h5\n",
            "Epoch 34/50\n",
            "1/1 [==============================] - 0s 89ms/step - loss: 4.8087 - accuracy: 0.8636 - val_loss: 5.9016 - val_accuracy: 0.4000\n",
            "\n",
            "Epoch 00034: val_loss improved from 5.90728 to 5.90161, saving model to models/intent_classification_b.h5\n",
            "Epoch 35/50\n",
            "1/1 [==============================] - 0s 130ms/step - loss: 4.8125 - accuracy: 0.8636 - val_loss: 5.8967 - val_accuracy: 0.4000\n",
            "\n",
            "Epoch 00035: val_loss improved from 5.90161 to 5.89666, saving model to models/intent_classification_b.h5\n",
            "Epoch 36/50\n",
            "1/1 [==============================] - 0s 100ms/step - loss: 4.8339 - accuracy: 0.8636 - val_loss: 5.8926 - val_accuracy: 0.4000\n",
            "\n",
            "Epoch 00036: val_loss improved from 5.89666 to 5.89259, saving model to models/intent_classification_b.h5\n",
            "Epoch 37/50\n",
            "1/1 [==============================] - 0s 95ms/step - loss: 4.8008 - accuracy: 0.8636 - val_loss: 5.8890 - val_accuracy: 0.4000\n",
            "\n",
            "Epoch 00037: val_loss improved from 5.89259 to 5.88897, saving model to models/intent_classification_b.h5\n",
            "Epoch 38/50\n",
            "1/1 [==============================] - 0s 99ms/step - loss: 4.8227 - accuracy: 0.9091 - val_loss: 5.8854 - val_accuracy: 0.4000\n",
            "\n",
            "Epoch 00038: val_loss improved from 5.88897 to 5.88537, saving model to models/intent_classification_b.h5\n",
            "Epoch 39/50\n",
            "1/1 [==============================] - 0s 100ms/step - loss: 4.7874 - accuracy: 0.8636 - val_loss: 5.8823 - val_accuracy: 0.4000\n",
            "\n",
            "Epoch 00039: val_loss improved from 5.88537 to 5.88232, saving model to models/intent_classification_b.h5\n",
            "Epoch 40/50\n",
            "1/1 [==============================] - 0s 93ms/step - loss: 4.7642 - accuracy: 0.9091 - val_loss: 5.8796 - val_accuracy: 0.4000\n",
            "\n",
            "Epoch 00040: val_loss improved from 5.88232 to 5.87959, saving model to models/intent_classification_b.h5\n",
            "Epoch 41/50\n",
            "1/1 [==============================] - 0s 100ms/step - loss: 4.7025 - accuracy: 0.9545 - val_loss: 5.8773 - val_accuracy: 0.4000\n",
            "\n",
            "Epoch 00041: val_loss improved from 5.87959 to 5.87734, saving model to models/intent_classification_b.h5\n",
            "Epoch 42/50\n",
            "1/1 [==============================] - 0s 99ms/step - loss: 4.8372 - accuracy: 0.8182 - val_loss: 5.8749 - val_accuracy: 0.4000\n",
            "\n",
            "Epoch 00042: val_loss improved from 5.87734 to 5.87488, saving model to models/intent_classification_b.h5\n",
            "Epoch 43/50\n",
            "1/1 [==============================] - 0s 90ms/step - loss: 4.6881 - accuracy: 0.9545 - val_loss: 5.8726 - val_accuracy: 0.4000\n",
            "\n",
            "Epoch 00043: val_loss improved from 5.87488 to 5.87263, saving model to models/intent_classification_b.h5\n",
            "Epoch 44/50\n",
            "1/1 [==============================] - 0s 106ms/step - loss: 4.7523 - accuracy: 0.9091 - val_loss: 5.8705 - val_accuracy: 0.4000\n",
            "\n",
            "Epoch 00044: val_loss improved from 5.87263 to 5.87049, saving model to models/intent_classification_b.h5\n",
            "Epoch 45/50\n",
            "1/1 [==============================] - 0s 91ms/step - loss: 4.7326 - accuracy: 0.9545 - val_loss: 5.8686 - val_accuracy: 0.4000\n",
            "\n",
            "Epoch 00045: val_loss improved from 5.87049 to 5.86858, saving model to models/intent_classification_b.h5\n",
            "Epoch 46/50\n",
            "1/1 [==============================] - 0s 101ms/step - loss: 4.8434 - accuracy: 0.8636 - val_loss: 5.8668 - val_accuracy: 0.4000\n",
            "\n",
            "Epoch 00046: val_loss improved from 5.86858 to 5.86676, saving model to models/intent_classification_b.h5\n",
            "Epoch 47/50\n",
            "1/1 [==============================] - 0s 100ms/step - loss: 4.7329 - accuracy: 0.9545 - val_loss: 5.8652 - val_accuracy: 0.4000\n",
            "\n",
            "Epoch 00047: val_loss improved from 5.86676 to 5.86517, saving model to models/intent_classification_b.h5\n",
            "Epoch 48/50\n",
            "1/1 [==============================] - 0s 95ms/step - loss: 4.7369 - accuracy: 0.9091 - val_loss: 5.8638 - val_accuracy: 0.4000\n",
            "\n",
            "Epoch 00048: val_loss improved from 5.86517 to 5.86376, saving model to models/intent_classification_b.h5\n",
            "Epoch 49/50\n",
            "1/1 [==============================] - 0s 97ms/step - loss: 4.7560 - accuracy: 0.9091 - val_loss: 5.8625 - val_accuracy: 0.4000\n",
            "\n",
            "Epoch 00049: val_loss improved from 5.86376 to 5.86253, saving model to models/intent_classification_b.h5\n",
            "Epoch 50/50\n",
            "1/1 [==============================] - 0s 95ms/step - loss: 4.7365 - accuracy: 0.9091 - val_loss: 5.8615 - val_accuracy: 0.4000\n",
            "\n",
            "Epoch 00050: val_loss improved from 5.86253 to 5.86145, saving model to models/intent_classification_b.h5\n"
          ],
          "name": "stdout"
        }
      ]
    },
    {
      "cell_type": "code",
      "metadata": {
        "colab": {
          "base_uri": "https://localhost:8080/",
          "height": 911
        },
        "id": "UXI-FlJtGypH",
        "outputId": "849bd0ef-1b4e-479f-f36f-85131638fcb9"
      },
      "source": [
        "# Visualizing Training Loss vs Validation Loss (the loss is how wrong your model is)\n",
        "plt.figure(figsize=(10,7))\n",
        "plt.plot(hist.history['val_loss'], label = 'Validation Loss', color = 'cyan')\n",
        "plt.plot(hist.history['loss'], label = 'Training Loss', color = 'purple')\n",
        "plt.title('Training Loss vs Validation Loss')\n",
        "plt.xlabel('Epochs')\n",
        "plt.ylabel('Loss')\n",
        "plt.legend()\n",
        "plt.show()\n",
        "\n",
        "# Visualizing Testing Accuracy vs Validation Accuracy\n",
        "plt.figure(figsize=(10,7))\n",
        "plt.plot(hist.history['val_accuracy'], label = 'Validation Accuracy', color = 'cyan')\n",
        "plt.plot(hist.history['accuracy'], label = 'Training Accuracy', color = 'purple')\n",
        "plt.title('Training Accuracy vs Validation Accuracy')\n",
        "plt.xlabel('Epochs')\n",
        "plt.ylabel('Accuracy')\n",
        "plt.legend()\n",
        "plt.show()"
      ],
      "execution_count": 17,
      "outputs": [
        {
          "output_type": "display_data",
          "data": {
            "image/png": "[encoded data removed]",
            "text/plain": [
              "<Figure size 720x504 with 1 Axes>"
            ]
          },
          "metadata": {
            "tags": [],
            "needs_background": "light"
          }
        },
        {
          "output_type": "display_data",
          "data": {
            "image/png": "[encoded data removed]",
            "text/plain": [
              "<Figure size 720x504 with 1 Axes>"
            ]
          },
          "metadata": {
            "tags": [],
            "needs_background": "light"
          }
        }
      ]
    },
    {
      "cell_type": "code",
      "metadata": {
        "id": "MnZ9InC_HD5o"
      },
      "source": [
        "# I have to redefine and load in the model saved by my model checkpoint \n",
        "from keras.models import load_model\n",
        "model = load_model('models/intent_classification_b.h5')"
      ],
      "execution_count": 18,
      "outputs": []
    },
    {
      "cell_type": "code",
      "metadata": {
        "id": "Z25bn7IVHSa9"
      },
      "source": [
        "def infer_intent(user_input):\n",
        "    ''' Making a function that recieves a user input and outputs a \n",
        "    dictionary of predictions '''\n",
        "    assert isinstance(user_input, str), 'User input must be a string!'\n",
        "    user_input = [user_input]\n",
        "    print(user_input)\n",
        "    \n",
        "    # Converting to Keras form\n",
        "    padded_text = convert_to_padded(t, user_input)\n",
        "    x = padded_text[0]\n",
        "    \n",
        "    # Prediction for each document\n",
        "    probs = model.predict(padded_text)\n",
        "#     print('Prob array shape', probs.shape)\n",
        "    \n",
        "    # Get the classes from label encoder\n",
        "    classes = le.classes_\n",
        "    \n",
        "    # Getting predictions dict and sorting\n",
        "    predictions = dict(zip(classes, probs[0]))\n",
        "    sorted_predictions = {k: v for k, v in sorted(predictions.items(), key=lambda item: item[1], reverse = True)}\n",
        "    \n",
        "    return sorted_predictions"
      ],
      "execution_count": 19,
      "outputs": []
    },
    {
      "cell_type": "code",
      "metadata": {
        "colab": {
          "base_uri": "https://localhost:8080/"
        },
        "id": "dPdUEv3xHTI5",
        "outputId": "17f3f509-1553-4201-b0fc-420110ae3ff3"
      },
      "source": [
        "infer_intent('hi')"
      ],
      "execution_count": 20,
      "outputs": [
        {
          "output_type": "stream",
          "text": [
            "['hi']\n",
            "WARNING:tensorflow:Model was constructed with shape (None, 32) for input KerasTensor(type_spec=TensorSpec(shape=(None, 32), dtype=tf.float32, name='embedding_input'), name='embedding_input', description=\"created by layer 'embedding_input'\"), but it was called on an input with incompatible shape (None, 15).\n"
          ],
          "name": "stdout"
        },
        {
          "output_type": "execute_result",
          "data": {
            "text/plain": [
              "{'alternatives': 0.096203476,\n",
              " 'goodbye': 0.14456387,\n",
              " 'greeting': 0.16225216,\n",
              " 'name': 0.111570135,\n",
              " 'negotiate': 0.09460515,\n",
              " 'shop': 0.10240075}"
            ]
          },
          "metadata": {
            "tags": []
          },
          "execution_count": 20
        }
      ]
    },
    {
      "cell_type": "code",
      "metadata": {
        "colab": {
          "base_uri": "https://localhost:8080/"
        },
        "id": "Q5GSA_61HVhy",
        "outputId": "23455791-de5c-4329-e571-340ce29a0dea"
      },
      "source": [
        "infer_intent('are there any alternatives')"
      ],
      "execution_count": 21,
      "outputs": [
        {
          "output_type": "stream",
          "text": [
            "['are there any alternatives']\n"
          ],
          "name": "stdout"
        },
        {
          "output_type": "execute_result",
          "data": {
            "text/plain": [
              "{'alternatives': 0.8124709,\n",
              " 'goodbye': 0.027707579,\n",
              " 'greeting': 0.05740085,\n",
              " 'name': 0.012064704,\n",
              " 'negotiate': 0.07953387,\n",
              " 'shop': 0.009299456}"
            ]
          },
          "metadata": {
            "tags": []
          },
          "execution_count": 21
        }
      ]
    },
    {
      "cell_type": "code",
      "metadata": {
        "colab": {
          "base_uri": "https://localhost:8080/"
        },
        "id": "luKuSfHZHkrk",
        "outputId": "d5de6bc5-dfdc-4c61-ec2f-15e0e6e987f0"
      },
      "source": [
        "infer_intent(\"is theres sales on this item\")"
      ],
      "execution_count": 22,
      "outputs": [
        {
          "output_type": "stream",
          "text": [
            "['is theres sales on this item']\n"
          ],
          "name": "stdout"
        },
        {
          "output_type": "execute_result",
          "data": {
            "text/plain": [
              "{'alternatives': 0.011821298,\n",
              " 'goodbye': 0.009117089,\n",
              " 'greeting': 0.00087742676,\n",
              " 'name': 0.0024038584,\n",
              " 'negotiate': 0.9721265,\n",
              " 'shop': 0.0034431776}"
            ]
          },
          "metadata": {
            "tags": []
          },
          "execution_count": 22
        }
      ]
    },
    {
      "cell_type": "code",
      "metadata": {
        "id": "rHmLtlE5Hs_1"
      },
      "source": [
        ""
      ],
      "execution_count": 26,
      "outputs": []
    },
    {
      "cell_type": "code",
      "metadata": {
        "id": "Hz1kpENnH304"
      },
      "source": [
        ""
      ],
      "execution_count": null,
      "outputs": []
    }
  ]
}